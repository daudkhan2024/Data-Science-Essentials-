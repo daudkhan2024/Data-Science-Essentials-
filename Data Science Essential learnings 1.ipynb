{
 "cells": [
  {
   "cell_type": "code",
   "execution_count": 10,
   "id": "ba0d77d6",
   "metadata": {},
   "outputs": [],
   "source": [
    "import pandas as pd\n",
    "import numpy as np\n",
    "\n",
    "from pandas import Series, DataFrame"
   ]
  },
  {
   "cell_type": "markdown",
   "id": "343662be",
   "metadata": {},
   "source": [
    "### Selecting and retreving data"
   ]
  },
  {
   "cell_type": "markdown",
   "id": "a4100f98",
   "metadata": {},
   "source": [
    "you can write an index value in two form\n",
    "\n",
    "+label index or\n",
    "\n",
    "+interger index"
   ]
  },
  {
   "cell_type": "code",
   "execution_count": 16,
   "id": "f2777325",
   "metadata": {},
   "outputs": [],
   "source": [
    "series_obj = Series(np.arange(6), index=['row 1','row 2','row 3','row 4','row 5','row 6'])\n"
   ]
  },
  {
   "cell_type": "code",
   "execution_count": 17,
   "id": "80450969",
   "metadata": {},
   "outputs": [
    {
     "data": {
      "text/plain": [
       "row 1    0\n",
       "row 2    1\n",
       "row 3    2\n",
       "row 4    3\n",
       "row 5    4\n",
       "row 6    5\n",
       "dtype: int64"
      ]
     },
     "execution_count": 17,
     "metadata": {},
     "output_type": "execute_result"
    }
   ],
   "source": [
    "series_obj"
   ]
  },
  {
   "cell_type": "code",
   "execution_count": 18,
   "id": "5e74c17a",
   "metadata": {},
   "outputs": [
    {
     "data": {
      "text/plain": [
       "5"
      ]
     },
     "execution_count": 18,
     "metadata": {},
     "output_type": "execute_result"
    }
   ],
   "source": [
    "series_obj['row 6']"
   ]
  },
  {
   "cell_type": "code",
   "execution_count": 20,
   "id": "2e3b1d8e",
   "metadata": {},
   "outputs": [
    {
     "data": {
      "text/plain": [
       "4"
      ]
     },
     "execution_count": 20,
     "metadata": {},
     "output_type": "execute_result"
    }
   ],
   "source": [
    "series_obj['row 5']"
   ]
  },
  {
   "cell_type": "code",
   "execution_count": 28,
   "id": "7aaf66f7",
   "metadata": {},
   "outputs": [
    {
     "data": {
      "text/plain": [
       "row 1    0\n",
       "row 6    5\n",
       "dtype: int64"
      ]
     },
     "execution_count": 28,
     "metadata": {},
     "output_type": "execute_result"
    }
   ],
   "source": [
    "series_obj[[0, 5]]"
   ]
  },
  {
   "cell_type": "code",
   "execution_count": 29,
   "id": "ebcdec84",
   "metadata": {},
   "outputs": [
    {
     "data": {
      "text/plain": [
       "row 1    0\n",
       "row 6    5\n",
       "dtype: int64"
      ]
     },
     "execution_count": 29,
     "metadata": {},
     "output_type": "execute_result"
    }
   ],
   "source": [
    "series_obj[[0,5]]"
   ]
  },
  {
   "cell_type": "code",
   "execution_count": 30,
   "id": "7a00d600",
   "metadata": {},
   "outputs": [
    {
     "data": {
      "text/plain": [
       "row 5    4\n",
       "dtype: int64"
      ]
     },
     "execution_count": 30,
     "metadata": {},
     "output_type": "execute_result"
    }
   ],
   "source": [
    "series_obj[[4]]"
   ]
  },
  {
   "cell_type": "markdown",
   "id": "38de2684",
   "metadata": {},
   "source": [
    "### chreating data frame obj"
   ]
  },
  {
   "cell_type": "code",
   "execution_count": 51,
   "id": "4e1e8a70",
   "metadata": {},
   "outputs": [],
   "source": [
    "np.random.seed(25)\n",
    "                 "
   ]
  },
  {
   "cell_type": "code",
   "execution_count": 65,
   "id": "37e8f34f",
   "metadata": {},
   "outputs": [
    {
     "data": {
      "text/html": [
       "<div>\n",
       "<style scoped>\n",
       "    .dataframe tbody tr th:only-of-type {\n",
       "        vertical-align: middle;\n",
       "    }\n",
       "\n",
       "    .dataframe tbody tr th {\n",
       "        vertical-align: top;\n",
       "    }\n",
       "\n",
       "    .dataframe thead th {\n",
       "        text-align: right;\n",
       "    }\n",
       "</style>\n",
       "<table border=\"1\" class=\"dataframe\">\n",
       "  <thead>\n",
       "    <tr style=\"text-align: right;\">\n",
       "      <th></th>\n",
       "      <th>colums 1</th>\n",
       "      <th>column 2</th>\n",
       "      <th>columns 3</th>\n",
       "      <th>column 4</th>\n",
       "      <th>column 5</th>\n",
       "      <th>column 6</th>\n",
       "    </tr>\n",
       "  </thead>\n",
       "  <tbody>\n",
       "    <tr>\n",
       "      <th>row 1</th>\n",
       "      <td>0.590885</td>\n",
       "      <td>0.163652</td>\n",
       "      <td>0.836928</td>\n",
       "      <td>0.775203</td>\n",
       "      <td>0.169041</td>\n",
       "      <td>0.766994</td>\n",
       "    </tr>\n",
       "    <tr>\n",
       "      <th>row 2</th>\n",
       "      <td>0.335366</td>\n",
       "      <td>0.472398</td>\n",
       "      <td>0.215064</td>\n",
       "      <td>0.912094</td>\n",
       "      <td>0.759208</td>\n",
       "      <td>0.676561</td>\n",
       "    </tr>\n",
       "    <tr>\n",
       "      <th>row 3</th>\n",
       "      <td>0.021376</td>\n",
       "      <td>0.660874</td>\n",
       "      <td>0.094440</td>\n",
       "      <td>0.831163</td>\n",
       "      <td>0.112749</td>\n",
       "      <td>0.566830</td>\n",
       "    </tr>\n",
       "    <tr>\n",
       "      <th>row 4</th>\n",
       "      <td>0.174626</td>\n",
       "      <td>0.790607</td>\n",
       "      <td>0.033683</td>\n",
       "      <td>0.795971</td>\n",
       "      <td>0.689437</td>\n",
       "      <td>0.491846</td>\n",
       "    </tr>\n",
       "    <tr>\n",
       "      <th>row 5</th>\n",
       "      <td>0.088554</td>\n",
       "      <td>0.937550</td>\n",
       "      <td>0.084362</td>\n",
       "      <td>0.469394</td>\n",
       "      <td>0.805613</td>\n",
       "      <td>0.085646</td>\n",
       "    </tr>\n",
       "    <tr>\n",
       "      <th>row 6</th>\n",
       "      <td>0.244380</td>\n",
       "      <td>0.892806</td>\n",
       "      <td>0.478611</td>\n",
       "      <td>0.190401</td>\n",
       "      <td>0.253044</td>\n",
       "      <td>0.762339</td>\n",
       "    </tr>\n",
       "  </tbody>\n",
       "</table>\n",
       "</div>"
      ],
      "text/plain": [
       "       colums 1  column 2  columns 3  column 4  column 5  column 6\n",
       "row 1  0.590885  0.163652   0.836928  0.775203  0.169041  0.766994\n",
       "row 2  0.335366  0.472398   0.215064  0.912094  0.759208  0.676561\n",
       "row 3  0.021376  0.660874   0.094440  0.831163  0.112749  0.566830\n",
       "row 4  0.174626  0.790607   0.033683  0.795971  0.689437  0.491846\n",
       "row 5  0.088554  0.937550   0.084362  0.469394  0.805613  0.085646\n",
       "row 6  0.244380  0.892806   0.478611  0.190401  0.253044  0.762339"
      ]
     },
     "execution_count": 65,
     "metadata": {},
     "output_type": "execute_result"
    }
   ],
   "source": [
    "DF_obj =  DataFrame(np.random.rand(36).reshape((6,6)),\n",
    "index=['row 1','row 2','row 3','row 4','row 5','row 6'],\n",
    "columns=['colums 1','column 2','columns 3','column 4','column 5', 'column 6'])\n",
    "DF_obj"
   ]
  },
  {
   "cell_type": "code",
   "execution_count": 68,
   "id": "5f942d8e",
   "metadata": {},
   "outputs": [
    {
     "data": {
      "text/html": [
       "<div>\n",
       "<style scoped>\n",
       "    .dataframe tbody tr th:only-of-type {\n",
       "        vertical-align: middle;\n",
       "    }\n",
       "\n",
       "    .dataframe tbody tr th {\n",
       "        vertical-align: top;\n",
       "    }\n",
       "\n",
       "    .dataframe thead th {\n",
       "        text-align: right;\n",
       "    }\n",
       "</style>\n",
       "<table border=\"1\" class=\"dataframe\">\n",
       "  <thead>\n",
       "    <tr style=\"text-align: right;\">\n",
       "      <th></th>\n",
       "      <th>column 5</th>\n",
       "      <th>column 2</th>\n",
       "    </tr>\n",
       "  </thead>\n",
       "  <tbody>\n",
       "    <tr>\n",
       "      <th>row 2</th>\n",
       "      <td>0.759208</td>\n",
       "      <td>0.472398</td>\n",
       "    </tr>\n",
       "    <tr>\n",
       "      <th>row 5</th>\n",
       "      <td>0.805613</td>\n",
       "      <td>0.937550</td>\n",
       "    </tr>\n",
       "  </tbody>\n",
       "</table>\n",
       "</div>"
      ],
      "text/plain": [
       "       column 5  column 2\n",
       "row 2  0.759208  0.472398\n",
       "row 5  0.805613  0.937550"
      ]
     },
     "execution_count": 68,
     "metadata": {},
     "output_type": "execute_result"
    }
   ],
   "source": [
    "DF_obj.loc[['row 2','row 5'],['column 5','column 2']] # to get valuve of row 2 row 5\n",
    "#colu, 5 and 2"
   ]
  },
  {
   "cell_type": "markdown",
   "id": "06a9b808",
   "metadata": {},
   "source": [
    "### Data Slicing"
   ]
  },
  {
   "cell_type": "code",
   "execution_count": 69,
   "id": "d1ff5128",
   "metadata": {},
   "outputs": [
    {
     "data": {
      "text/plain": [
       "row 2    1\n",
       "row 3    2\n",
       "row 4    3\n",
       "row 5    4\n",
       "dtype: int64"
      ]
     },
     "execution_count": 69,
     "metadata": {},
     "output_type": "execute_result"
    }
   ],
   "source": [
    "series_obj['row 2':'row 5']"
   ]
  },
  {
   "cell_type": "markdown",
   "id": "08a23772",
   "metadata": {},
   "source": [
    "### comparing with scaler"
   ]
  },
  {
   "cell_type": "code",
   "execution_count": 73,
   "id": "8b434f34",
   "metadata": {},
   "outputs": [
    {
     "data": {
      "text/plain": [
       "row 6    5\n",
       "dtype: int64"
      ]
     },
     "execution_count": 73,
     "metadata": {},
     "output_type": "execute_result"
    }
   ],
   "source": [
    "series_obj[series_obj > 4]"
   ]
  },
  {
   "cell_type": "markdown",
   "id": "7f8b13ed",
   "metadata": {},
   "source": [
    "### setting values with scalars"
   ]
  },
  {
   "cell_type": "code",
   "execution_count": 79,
   "id": "d68b30bf",
   "metadata": {},
   "outputs": [
    {
     "data": {
      "text/plain": [
       "row 1    8\n",
       "row 2    1\n",
       "row 3    2\n",
       "row 4    3\n",
       "row 5    8\n",
       "row 6    8\n",
       "dtype: int64"
      ]
     },
     "execution_count": 79,
     "metadata": {},
     "output_type": "execute_result"
    }
   ],
   "source": [
    "series_obj['row 1','row 5','row 6'] = 8\n",
    "series_obj"
   ]
  },
  {
   "cell_type": "markdown",
   "id": "fdc8afc1",
   "metadata": {},
   "source": []
  }
 ],
 "metadata": {
  "kernelspec": {
   "display_name": "Python 3 (ipykernel)",
   "language": "python",
   "name": "python3"
  },
  "language_info": {
   "codemirror_mode": {
    "name": "ipython",
    "version": 3
   },
   "file_extension": ".py",
   "mimetype": "text/x-python",
   "name": "python",
   "nbconvert_exporter": "python",
   "pygments_lexer": "ipython3",
   "version": "3.8.12"
  }
 },
 "nbformat": 4,
 "nbformat_minor": 5
}
